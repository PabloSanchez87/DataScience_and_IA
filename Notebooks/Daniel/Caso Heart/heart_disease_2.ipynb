{
 "cells": [
  {
   "cell_type": "markdown",
   "source": [
    "# CELDA DEDICADA A LOS IMPORT \n",
    "\n",
    "Todos los import han de estar en esta celda"
   ],
   "metadata": {
    "collapsed": false
   },
   "id": "d705d284e8d567ab"
  },
  {
   "cell_type": "code",
   "outputs": [],
   "source": [
    "import numpy as np\n",
    "import pandas as pd\n",
    "from matplotlib import pyplot as plt\n",
    "from sklearn.ensemble import RandomForestClassifier\n",
    "from sklearn.model_selection import train_test_split, GridSearchCV\n",
    "from sklearn.preprocessing import OneHotEncoder\n",
    "from sklearn.metrics import accuracy_score, recall_score, precision_score, confusion_matrix, roc_auc_score, classification_report\n",
    "from sklearn.inspection import permutation_importance\n",
    "from sklearn.model_selection import cross_val_predict\n",
    "from sklearn.feature_selection import SequentialFeatureSelector, mutual_info_classif\n",
    "import seaborn as sns "
   ],
   "metadata": {
    "collapsed": true,
    "ExecuteTime": {
     "end_time": "2025-01-22T07:51:52.801060Z",
     "start_time": "2025-01-22T07:51:52.542383Z"
    }
   },
   "id": "initial_id",
   "execution_count": 19
  },
  {
   "cell_type": "markdown",
   "source": [
    "# DECLARACIÓN DE FUNCIONES\n",
    "\n",
    "Todas las funciones reusables deben ir a continuación."
   ],
   "metadata": {
    "collapsed": false
   },
   "id": "602cff03a3ec054b"
  },
  {
   "cell_type": "code",
   "outputs": [],
   "source": [
    "def print_classification_report(y, y_pred, y_pred_proba):\n",
    "    matriz_confusion = confusion_matrix(y,y_pred)\n",
    "    matriz_confusion_df = pd.DataFrame(matriz_confusion, index=['False','True'], columns=['False','True'])\n",
    "    print(matriz_confusion_df)\n",
    "    accuracy= accuracy_score(y, y_pred)\n",
    "    print(\" \")\n",
    "    print(f\"Accuracy: {accuracy}\")\n",
    "    precision = precision_score(y, y_pred)\n",
    "    print(f\"Precision: {precision}\")\n",
    "    recall = recall_score(y, y_pred)\n",
    "    print(f\"Recall: {recall}\")\n",
    "    auc = roc_auc_score(y, y_pred_proba)\n",
    "    print(f\"Area bajo la curva: {auc}\")\n",
    "\n",
    "def barplot(input_df, metric_list):\n",
    "    # Calcular el número de filas necesarias para las subgráficas (en este caso 3 columnas por fila)\n",
    "    n_rows = int(np.ceil(len(metric_list) / 3))\n",
    "    n_cols = 3\n",
    "    fig, axes = plt.subplots(n_rows, n_cols, figsize=(15, 10))\n",
    "    \n",
    "    # Aplanar el arreglo de ejes para poder iterar fácilmente\n",
    "    axes = axes.flatten()\n",
    "    \n",
    "    # Crear gráficos de barras por cada columna en metric_list\n",
    "    for i, col in enumerate(metric_list):\n",
    "        ax = axes[i]  # Seleccionar el eje correspondiente\n",
    "        class_counts = input_df[col].value_counts()  # Contar las ocurrencias de cada categoría\n",
    "        ax.bar(class_counts.index, class_counts.values, color='skyblue')  # Crear gráfico de barras\n",
    "        ax.set_title(f'Número de Registros por {col}')  # Título del gráfico\n",
    "        ax.set_xlabel(col)  # Etiqueta del eje X\n",
    "        ax.set_ylabel('Número de Registros')  # Etiqueta del eje Y\n",
    "    \n",
    "    # Eliminar los gráficos sobrantes si hay menos columnas que subgráficas\n",
    "    for j in range(len(metric_list), len(axes)):\n",
    "        fig.delaxes(axes[j])\n",
    "    \n",
    "    # Ajustar el diseño para que no se solapen las gráficas\n",
    "    plt.tight_layout()\n",
    "    plt.show()\n",
    "\n",
    "\n",
    "def boxplot_grouping_by_cathegorical(input_df, metric_list,output_variable):\n",
    "    # Configurar el número de filas y columnas de subplots\n",
    "    n_rows = int(np.ceil(len(metric_list)/3))\n",
    "    n_cols = 3\n",
    "    fig, axes = plt.subplots(n_rows, n_cols, figsize=(15, 10))\n",
    "    \n",
    "    # Aplanar el arreglo de ejes para iterar fácilmente (si es necesario)\n",
    "    axes = axes.flatten()\n",
    "    \n",
    "    # Crear gráficos de caja por cada columna\n",
    "    for i, col in enumerate(metric_list):\n",
    "        ax = axes[i]\n",
    "        input_df.boxplot(column=[col], by=output_variable, ax=ax, grid=False)\n",
    "        ax.set_title(f'{col} by Outcome')\n",
    "        ax.set_xlabel('Outcome')\n",
    "        ax.set_ylabel(col)\n",
    "    \n",
    "    # Quitar gráficos sobrantes si hay menos columnas que subplots\n",
    "    for j in range(len(metric_list), len(axes)):\n",
    "        fig.delaxes(axes[j])\n",
    "    \n",
    "    # Ajustar el diseño\n",
    "    plt.tight_layout()\n",
    "    plt.show()\n",
    "\n",
    "def apply_one_hot_encoder(input_df, variable_list):\n",
    "    # Crear el OneHotEncoder\n",
    "    encoder = OneHotEncoder(sparse=False)\n",
    "\n",
    "    # Aplicar OneHotEncoder a las columnas seleccionadas\n",
    "    encoded_data = encoder.fit_transform(input_df[variable_list])\n",
    "\n",
    "    # Convertir el resultado a un DataFrame para que sea fácil de manejar\n",
    "    encoded_df = pd.DataFrame(encoded_data, columns=encoder.get_feature_names_out(variable_list))\n",
    "\n",
    "    # Concatenar las columnas codificadas al DataFrame original (si es necesario)\n",
    "    input_encoded_df = pd.concat([input_df.drop(columns=variable_list), encoded_df], axis=1)\n",
    "    \n",
    "    return input_encoded_df\n",
    "\n",
    "def fill_nulls_with_value(input_df, variable_list, value):\n",
    "    output_df = input_df.copy()\n",
    "    output_df[variable_list] = output_df[variable_list].fillna(value)\n",
    "    return output_df\n",
    "\n",
    "def fill_nulls_with_metric(input_df, variable_list, metric):\n",
    "    output_df = input_df.copy()\n",
    "    \n",
    "    # Diccionario para mapear las métricas a funciones pandas\n",
    "    metric_functions = {\n",
    "        'mean': lambda x: x.mean(),\n",
    "        'median': lambda x: x.median(),\n",
    "        'max': lambda x: x.max(),\n",
    "        'min': lambda x: x.min(),\n",
    "    }\n",
    "\n",
    "    # Verificar si la métrica proporcionada es válida\n",
    "    if metric not in metric_functions:\n",
    "        raise ValueError(f\"Métrica '{metric}' no es válida. Usa: {list(metric_functions.keys())}\")\n",
    "\n",
    "    # Iterar sobre las columnas de la lista y rellenar los nulos\n",
    "    for column in variable_list:\n",
    "        if column in output_df.columns:\n",
    "            fill_value = metric_functions[metric](output_df[column])  # Calcular el valor de la métrica\n",
    "            output_df[column] = output_df[column].fillna(fill_value)  # Rellenar valores nulos\n",
    "        else:\n",
    "            print(f\"Columna '{column}' no encontrada en el DataFrame.\")\n",
    "\n",
    "    return output_df\n",
    "\n",
    "def barplot_grouping_by_cathegorical(input_df, metric_list,output_variable):\n",
    "     # Configurar el número de filas y columnas de subplots\n",
    "    n_rows = int(np.ceil(len(metric_list)/3))\n",
    "    n_cols = 3\n",
    "    fig, axes = plt.subplots(n_rows, n_cols, figsize=(15, 10))\n",
    "    \n",
    "    # Aplanar el arreglo de ejes para iterar fácilmente (si es necesario)\n",
    "    axes = axes.flatten()\n",
    "    \n",
    "    # Crear gráficos de caja por cada columna\n",
    "    for i, col in enumerate(metric_list):\n",
    "        ax = axes[i]\n",
    "        grouped = input_df.groupby([col, output_variable]).size().unstack(fill_value=0)\n",
    "        grouped.plot(kind='bar', stacked=True, ax=ax, colormap='Set2')\n",
    "        ax.set_title(f'{col} by Outcome')\n",
    "        ax.set_xlabel('Outcome')\n",
    "        ax.set_ylabel(col)\n",
    "    \n",
    "    # Quitar gráficos sobrantes si hay menos columnas que subplots\n",
    "    for j in range(len(metric_list), len(axes)):\n",
    "        fig.delaxes(axes[j])\n",
    "    \n",
    "    # Ajustar el diseño\n",
    "    plt.tight_layout()\n",
    "    plt.show()    \n",
    "\n",
    "def mdi(X,y):\n",
    "    rft = RandomForestClassifier(random_state=42)\n",
    "    rft.fit(X,y)\n",
    "    mdi_importance = rft.feature_importances_\n",
    "    \n",
    "    feature_names = X.columns\n",
    "    indices = np.argsort(mdi_importance)[::-1]  # Ordenar por importancia\n",
    "    \n",
    "    plt.figure(figsize=(10, 6))\n",
    "    plt.bar(range(len(mdi_importance)), mdi_importance[indices], align=\"center\", color='skyblue')\n",
    "    plt.xticks(range(len(mdi_importance)), [feature_names[i] for i in indices], rotation=45, ha=\"right\")\n",
    "    plt.xlabel(\"Features\")\n",
    "    plt.ylabel(\"MDI Importance\")\n",
    "    plt.title(\"Feature Importance (MDI) - Random Forest\")\n",
    "    plt.tight_layout()\n",
    "    plt.show()\n",
    "\n",
    "def mda(X,y):\n",
    "    feature_names = X.columns\n",
    "    rft = RandomForestClassifier(random_state=42)    \n",
    "    rft.fit(X, y)\n",
    "    perm_importance = permutation_importance(rft, X, y, scoring=\"accuracy\", n_repeats=10, random_state=42)\n",
    "    importance_means = perm_importance.importances_mean\n",
    "    importance_stds = perm_importance.importances_std\n",
    "    indices = np.argsort(importance_means)[::-1]  # Ordenar por importancia\n",
    "    \n",
    "    plt.figure(figsize=(10, 6))\n",
    "    plt.bar(range(len(importance_means)), importance_means[indices], yerr=importance_stds[indices], align=\"center\", color=\"lightcoral\", capsize=5)\n",
    "    plt.xticks(range(len(importance_means)), [feature_names[i] for i in indices], rotation=45, ha=\"right\")\n",
    "    plt.xlabel(\"Features\")\n",
    "    plt.ylabel(\"MDA Importance\")\n",
    "    plt.title(\"Feature Importance (MDA) - Random Forest\")\n",
    "    plt.tight_layout()\n",
    "    plt.show()\n",
    "\n",
    "def plot_histograms(dataset, variables, bins=10):\n",
    "    n_vars = len(variables)\n",
    "    n_cols = 3\n",
    "    n_rows = (n_vars // n_cols) + (n_vars % n_cols > 0)\n",
    "\n",
    "    fig, axes = plt.subplots(n_rows, n_cols, figsize=(n_cols * 5, n_rows * 4))\n",
    "    axes = axes.flatten()\n",
    "    \n",
    "    for i, var in enumerate(variables):\n",
    "        axes[i].hist(dataset[var].dropna(), bins=bins, alpha=0.7, color='blue')\n",
    "        axes[i].set_title(var)\n",
    "    \n",
    "    for j in range(i + 1, len(axes)):\n",
    "        fig.delaxes(axes[j])\n",
    "    \n",
    "    plt.tight_layout()\n",
    "    plt.show()\n",
    "\n",
    "def plot_mutual_information_heatmap(df, target):\n",
    "    # Separamos las características (X) y la variable objetivo (y)\n",
    "    X = df.drop(columns=[target])\n",
    "    y = df[target]\n",
    "    \n",
    "    # Calculamos la información mutua entre las características y la variable objetivo\n",
    "    mi = mutual_info_classif(X, y)\n",
    "    \n",
    "    # Creamos un DataFrame con los resultados\n",
    "    mi_df = pd.DataFrame(mi, index=X.columns, columns=['Mutual Information'])\n",
    "    \n",
    "    # Ordenamos los resultados por la información mutua\n",
    "    mi_df = mi_df.sort_values(by='Mutual Information', ascending=False)\n",
    "    \n",
    "    # Dibujamos el heatmap\n",
    "    plt.figure(figsize=(10, 6))\n",
    "    sns.heatmap(mi_df.T, annot=True, cmap=\"YlGnBu\", cbar=True, fmt='.2f', linewidths=0.5)\n",
    "    plt.title('Mutual Information between Features and Target')\n",
    "    plt.show()\n",
    "\n",
    "def plot_correlation_heatmap(df, method = None):\n",
    "    if method is None:\n",
    "        # Calculamos la matriz de correlación entre las variables numéricas\n",
    "        corr_matrix = df.corr()\n",
    "    else:\n",
    "        corr_matrix = df.corr(method = method)\n",
    "    # Dibujamos el heatmap\n",
    "    plt.figure(figsize=(12, 8))\n",
    "    sns.heatmap(corr_matrix, annot=True, cmap=\"coolwarm\", fmt='.2f', linewidths=0.5, cbar=True)\n",
    "    plt.title('Correlación entre las Variables')\n",
    "    plt.show()"
   ],
   "metadata": {
    "collapsed": false,
    "ExecuteTime": {
     "end_time": "2025-01-22T13:42:55.329562Z",
     "start_time": "2025-01-22T13:42:55.299027Z"
    }
   },
   "id": "5c4dfceb4c94e73c",
   "execution_count": 26
  },
  {
   "cell_type": "markdown",
   "source": [
    "# LECTURA DEL FICHERO"
   ],
   "metadata": {
    "collapsed": false
   },
   "id": "24a423e8d3fbdb29"
  },
  {
   "cell_type": "code",
   "outputs": [],
   "source": [
    "heart_df = pd.read_csv(\"heart.csv\")"
   ],
   "metadata": {
    "collapsed": false
   },
   "id": "7b680d47ff67c338",
   "execution_count": null
  },
  {
   "cell_type": "markdown",
   "source": [
    "# ANÁLISIS DESCRIPTIVO"
   ],
   "metadata": {
    "collapsed": false
   },
   "id": "e49c918087b73d68"
  },
  {
   "cell_type": "markdown",
   "source": [
    "## INFO Y HEAD"
   ],
   "metadata": {
    "collapsed": false
   },
   "id": "cca6d281989a8948"
  },
  {
   "cell_type": "markdown",
   "source": [
    "## DEFINIMOS LAS VARIABLES CATEGÓRICAS/DISCRETAS Y LAS VARIABLES NUMÉRICAS"
   ],
   "metadata": {
    "collapsed": false
   },
   "id": "9d7aa78bcc6046e4"
  },
  {
   "cell_type": "markdown",
   "source": [
    "## DESCRIBE DE LAS VARIABLES NUMÉRICAS"
   ],
   "metadata": {
    "collapsed": false
   },
   "id": "e621397c760d1107"
  },
  {
   "cell_type": "markdown",
   "source": [
    "## QUÉ REPRESENTA CADA VARIABLE\n",
    "\n",
    "age :\n",
    "sex :\n",
    "cp :\n",
    "trestbps :\n",
    "chol :\n",
    "fbs :\n",
    "restecg :\n",
    "thalach :\n",
    "exang :\n",
    "oldpeak :\n",
    "slope :\n",
    "ca :\n",
    "thal :\n",
    "target :"
   ],
   "metadata": {
    "collapsed": false
   },
   "id": "77cc6287acdc9554"
  },
  {
   "cell_type": "markdown",
   "source": [],
   "metadata": {
    "collapsed": false
   },
   "id": "11652f6e9240891e"
  },
  {
   "cell_type": "markdown",
   "source": [
    "## DISTRIBUCIÓN DE CADA VARIABLE\n"
   ],
   "metadata": {
    "collapsed": false
   },
   "id": "45d47288e019ecd8"
  },
  {
   "cell_type": "markdown",
   "source": [
    "## CORRELACIONES\n",
    "\n",
    "Boxplot agrupando por target para las continuas y barplot agrupando por target para las discretas"
   ],
   "metadata": {
    "collapsed": false
   },
   "id": "7384b2c816a18a0"
  },
  {
   "cell_type": "markdown",
   "source": [
    "Heatmap de correlaciones"
   ],
   "metadata": {
    "collapsed": false
   },
   "id": "26f80bdc2cd62f4b"
  },
  {
   "cell_type": "markdown",
   "source": [
    "## DEFINIMOS EL OBJETIVO/MÉTRICA DEL PROBLEMA\n"
   ],
   "metadata": {
    "collapsed": false
   },
   "id": "c4c29c34564e8ad4"
  },
  {
   "cell_type": "markdown",
   "source": [
    "## FEATURE IMPORTANCE\n",
    "\n",
    "Aplicamos MDI y MDA."
   ],
   "metadata": {
    "collapsed": false
   },
   "id": "51771cb77e4ec50d"
  }
 ],
 "metadata": {
  "kernelspec": {
   "display_name": "Python 3",
   "language": "python",
   "name": "python3"
  },
  "language_info": {
   "codemirror_mode": {
    "name": "ipython",
    "version": 2
   },
   "file_extension": ".py",
   "mimetype": "text/x-python",
   "name": "python",
   "nbconvert_exporter": "python",
   "pygments_lexer": "ipython2",
   "version": "2.7.6"
  }
 },
 "nbformat": 4,
 "nbformat_minor": 5
}
