{
 "cells": [
  {
   "cell_type": "markdown",
   "metadata": {},
   "source": [
    "# Práctica de Spark Streaming en Databricks con CoinCap: Uso de Dos Notebooks\n",
    "\n",
    "## Objetivos\n",
    "\n",
    "- Configurar un proceso de ingesta y procesamiento de datos en Databricks utilizando PySpark Streaming.\n",
    "- Dividir el flujo de trabajo en dos notebooks: uno para la ingesta de datos desde la API de CoinCap y otro para el procesamiento en tiempo real.\n",
    "- Preparar los datos para el cálculo de KPIs.\n",
    "---\n",
    "\n",
    "## Descripción de la Práctica\n",
    "\n",
    "En esta práctica, trabajarás con datos de criptomonedas proporcionados por la API de **CoinCap**. Crearás dos notebooks:\n",
    "\n",
    "1. **Notebook 1:** Realiza la ingesta de datos desde la API REST de CoinCap y los guarda en una ruta accesible en Databricks.\n",
    "2. **Notebook 2:** Lee los datos en tiempo real utilizando Spark Streaming, los transforma y los prepara para el cálculo de KPIs.\n",
    "\n",
    "La API REST de CoinCap permite obtener precios en tiempo real de criptomonedas como Bitcoin, Ethereum y Cardano: \n",
    "\"https://api.coincap.io/v2/assets/bitcoin\"\n",
    "---\n",
    "\n",
    "## Parte 1: Notebook 1 - Ingesta de Datos desde la API de CoinCap\n",
    "\n",
    "### Instrucciones\n",
    "\n",
    "1. **Crear un nuevo Notebook en Databricks** llamado `Ingesta_CoinCap`.\n",
    "2. **Configurar el entorno** para hacer solicitudes HTTP y guardar los datos en formato JSON.\n",
    "\n",
    "### Enunciado\n",
    "\n",
    "1. **Importa las bibliotecas necesarias** para realizar solicitudes HTTP y trabajar con fechas y horas.\n",
    "2. **Define la URL de la API** de CoinCap.\n",
    "3. **Crea el código necesario** para obtener los datos de la API y los guarde en una carpeta temporal de Databricks en formato JSON.\n",
    "4. **Programa la función/código** para que realice solicitudes a intervalos regulares (por ejemplo, cada 10 segundos) durante un periodo determinado.\n",
    "\n",
    "### Puntos Clave\n",
    "\n",
    "- Guarda los datos en la ruta `/tmp/coincap_stream/`.\n",
    "- Asegúrate de que los archivos se guarden con nombres únicos (puedes usar la marca de tiempo).\n",
    "- Verifica que los datos se guardan correctamente utilizando `dbutils.fs.ls(\"/tmp/coincap_stream/\")`.\n",
    "\n",
    "---"
   ]
  }
 ],
 "metadata": {
  "kernelspec": {
   "display_name": ".env",
   "language": "python",
   "name": "python3"
  },
  "language_info": {
   "name": "python",
   "version": "3.10.12"
  }
 },
 "nbformat": 4,
 "nbformat_minor": 2
}
