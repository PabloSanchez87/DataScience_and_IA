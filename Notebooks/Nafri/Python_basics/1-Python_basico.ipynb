{
 "cells": [
  {
   "cell_type": "code",
   "execution_count": 1,
   "metadata": {},
   "outputs": [],
   "source": [
    "def diferencia(a,b,c):\n",
    "    diff1 = abs(a-b)\n",
    "    diff2 = abs(b-c)\n",
    "    diff3 = abs(a-c)\n",
    "    \n",
    "    return min(diff1, diff2, diff3)"
   ]
  },
  {
   "cell_type": "code",
   "execution_count": 2,
   "metadata": {},
   "outputs": [
    {
     "name": "stdout",
     "output_type": "stream",
     "text": [
      "1\n"
     ]
    }
   ],
   "source": [
    "print(diferencia(10,2,3))"
   ]
  },
  {
   "cell_type": "code",
   "execution_count": 3,
   "metadata": {},
   "outputs": [
    {
     "data": {
      "text/plain": [
       "9"
      ]
     },
     "execution_count": 3,
     "metadata": {},
     "output_type": "execute_result"
    }
   ],
   "source": [
    "(diferencia(1,10,100))\n"
   ]
  },
  {
   "cell_type": "code",
   "execution_count": 4,
   "metadata": {},
   "outputs": [],
   "source": [
    "def es_par(a:int) -> bool:\n",
    "    if a % 2 == 0:\n",
    "        return True\n",
    "    \n",
    "    return False"
   ]
  },
  {
   "cell_type": "code",
   "execution_count": 5,
   "metadata": {},
   "outputs": [
    {
     "name": "stdout",
     "output_type": "stream",
     "text": [
      "False\n"
     ]
    }
   ],
   "source": [
    "print(es_par(3))"
   ]
  },
  {
   "cell_type": "code",
   "execution_count": 6,
   "metadata": {},
   "outputs": [
    {
     "name": "stdout",
     "output_type": "stream",
     "text": [
      "True\n"
     ]
    }
   ],
   "source": [
    "print(es_par(2))"
   ]
  },
  {
   "cell_type": "code",
   "execution_count": 7,
   "metadata": {},
   "outputs": [
    {
     "name": "stdout",
     "output_type": "stream",
     "text": [
      "True\n"
     ]
    }
   ],
   "source": [
    "print(es_par(0))"
   ]
  },
  {
   "cell_type": "code",
   "execution_count": 8,
   "metadata": {},
   "outputs": [],
   "source": [
    "def respecto_cero(a: int) -> str:\n",
    "    if a == 0:\n",
    "        return f\"{a}\"\n",
    "    elif a > 0:\n",
    "        return f\"{a} -> Es mayor que cero.\"\n",
    "    else:\n",
    "        return f\"{a} -> Es menor que cero.\""
   ]
  },
  {
   "cell_type": "code",
   "execution_count": 9,
   "metadata": {},
   "outputs": [
    {
     "data": {
      "text/plain": [
       "'9 -> Es mayor que cero.'"
      ]
     },
     "execution_count": 9,
     "metadata": {},
     "output_type": "execute_result"
    }
   ],
   "source": [
    "respecto_cero(9)"
   ]
  },
  {
   "cell_type": "code",
   "execution_count": 10,
   "metadata": {},
   "outputs": [
    {
     "data": {
      "text/plain": [
       "'-5 -> Es menor que cero.'"
      ]
     },
     "execution_count": 10,
     "metadata": {},
     "output_type": "execute_result"
    }
   ],
   "source": [
    "respecto_cero(-5)"
   ]
  },
  {
   "cell_type": "code",
   "execution_count": 11,
   "metadata": {},
   "outputs": [
    {
     "data": {
      "text/plain": [
       "'0'"
      ]
     },
     "execution_count": 11,
     "metadata": {},
     "output_type": "execute_result"
    }
   ],
   "source": [
    "respecto_cero(0)"
   ]
  },
  {
   "cell_type": "code",
   "execution_count": 12,
   "metadata": {},
   "outputs": [
    {
     "name": "stdout",
     "output_type": "stream",
     "text": [
      "1: False\n",
      "2: True\n",
      "7: False\n",
      "4: True\n",
      "15: False\n",
      "6: True\n"
     ]
    }
   ],
   "source": [
    "def es_par(num:int) -> bool:\n",
    "    return num % 2 == 0\n",
    "\n",
    "\n",
    "def es_par_lista(lista: list) -> dict:\n",
    "    \n",
    "    dic = {}\n",
    "    for i in lista:\n",
    "        dic[i] = es_par(i)\n",
    "    \n",
    "    return dic\n",
    "\n",
    "\n",
    "# Ejemplo de uso\n",
    "mi_lista = [1, 2, 7, 4, 15, 6]\n",
    "resultado = es_par_lista(mi_lista)\n",
    "\n",
    "for clave, valor in resultado.items():\n",
    "    print(f\"{clave}: {valor}\")\n",
    "\n",
    "            "
   ]
  },
  {
   "cell_type": "code",
   "execution_count": 13,
   "metadata": {},
   "outputs": [
    {
     "name": "stdout",
     "output_type": "stream",
     "text": [
      "Pares positivos: [2, 4, 10]\n",
      "Pares negativos: [-22, -6, -4]\n",
      "Impares positivos: [1, 3, 9, 13, 15]\n",
      "Impares negativos: [-11, -7]\n",
      "Mayores que 10: [13, 15]\n"
     ]
    }
   ],
   "source": [
    "def es_par(num: int) -> bool:\n",
    "    return num % 2 == 0\n",
    "\n",
    "  \n",
    "def clasificar_numeros(lista: list) -> dict:\n",
    "    categorias = {\n",
    "        \"Pares positivos\": [],\n",
    "        \"Pares negativos\": [],\n",
    "        \"Impares positivos\": [],\n",
    "        \"Impares negativos\": [],\n",
    "        \"Mayores que 10\": []\n",
    "    }\n",
    "\n",
    "    for num in lista:\n",
    "        if num > 0 and es_par(num):\n",
    "            categorias[\"Pares positivos\"].append(num)\n",
    "        elif num < 0 and es_par(num):\n",
    "            categorias[\"Pares negativos\"].append(num)\n",
    "            \n",
    "        elif num > 0 and not es_par(num):\n",
    "            categorias[\"Impares positivos\"].append(num)\n",
    "        elif num < 0 and not es_par(num):\n",
    "            categorias[\"Impares negativos\"].append(num)\n",
    "        \n",
    "        if num > 10:\n",
    "            categorias[\"Mayores que 10\"].append(num)\n",
    "    \n",
    "    return categorias\n",
    "\n",
    "### Ejemplo ###\n",
    "mi_lista = [1, 2, -22, -7, 4, 15, -6, -11, 0, 13, -4, 10, 9, 3]\n",
    "resultado = clasificar_numeros(mi_lista)\n",
    "\n",
    "### Imprimir resultados ###\n",
    "for categoria, numeros in resultado.items():\n",
    "    print(f\"{categoria}: {sorted(numeros)}\")"
   ]
  }
 ],
 "metadata": {
  "kernelspec": {
   "display_name": ".env",
   "language": "python",
   "name": "python3"
  },
  "language_info": {
   "codemirror_mode": {
    "name": "ipython",
    "version": 3
   },
   "file_extension": ".py",
   "mimetype": "text/x-python",
   "name": "python",
   "nbconvert_exporter": "python",
   "pygments_lexer": "ipython3",
   "version": "3.10.12"
  }
 },
 "nbformat": 4,
 "nbformat_minor": 2
}
