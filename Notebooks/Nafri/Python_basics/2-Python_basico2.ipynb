{
 "cells": [
  {
   "cell_type": "markdown",
   "metadata": {},
   "source": [
    "# Diccionarios\n",
    "Los diccionarios son como listas pero con claves y valores.\n",
    "\n",
    "---\n",
    "\n"
   ]
  },
  {
   "cell_type": "markdown",
   "metadata": {},
   "source": [
    "## ¿Qué son los diccionarios?\n",
    "- `Clave`: Es el nombre de la clave\n",
    "- `Valor`: Es el valor asociado a la clave\n"
   ]
  },
  {
   "cell_type": "markdown",
   "metadata": {},
   "source": [
    "## ¿Cómo funciona un diccionario?\n",
    "Se usan los {} para crear un diccionario y los : para asignar valores a las claves.\n",
    "\n",
    "```python\n",
    "# Creamos un diccionario\n",
    "diccionario = {\n",
    "    \"nombre\": \"Pablo\", \n",
    "    \"edad\": 25, \n",
    "    \"sexo\": \"masculino\"\n",
    "    }\n",
    "```\t"
   ]
  },
  {
   "cell_type": "markdown",
   "metadata": {},
   "source": [
    "### 1. Creación de un diccionario"
   ]
  },
  {
   "cell_type": "code",
   "execution_count": 2,
   "metadata": {},
   "outputs": [
    {
     "data": {
      "text/plain": [
       "{'a': 1, 'b': 2, 'c': 3}"
      ]
     },
     "execution_count": 2,
     "metadata": {},
     "output_type": "execute_result"
    }
   ],
   "source": [
    "diccionario = {'a': 1, 'b': 2, 'c': 3}\n",
    "diccionario"
   ]
  },
  {
   "cell_type": "markdown",
   "metadata": {},
   "source": [
    "### 2. Acceder a un valor de nuestro diccionario"
   ]
  },
  {
   "cell_type": "code",
   "execution_count": 3,
   "metadata": {},
   "outputs": [
    {
     "name": "stdout",
     "output_type": "stream",
     "text": [
      "1\n"
     ]
    }
   ],
   "source": [
    "print(diccionario['a'])"
   ]
  },
  {
   "cell_type": "markdown",
   "metadata": {},
   "source": [
    "### 3. Modificar un valor de nuestro diccionario"
   ]
  },
  {
   "cell_type": "code",
   "execution_count": 4,
   "metadata": {},
   "outputs": [
    {
     "name": "stdout",
     "output_type": "stream",
     "text": [
      "{'a': 10, 'b': 20, 'c': 30}\n"
     ]
    }
   ],
   "source": [
    "diccionario['a'] = 10\n",
    "diccionario['b'] = 20\n",
    "diccionario['c'] = 30\n",
    "\n",
    "print(diccionario)"
   ]
  },
  {
   "cell_type": "markdown",
   "metadata": {},
   "source": [
    "### 4. Añadir nuevas claves y valores"
   ]
  },
  {
   "cell_type": "code",
   "execution_count": 5,
   "metadata": {},
   "outputs": [
    {
     "name": "stdout",
     "output_type": "stream",
     "text": [
      "{'a': 10, 'b': 20, 'c': 30, 'd': '40'}\n"
     ]
    }
   ],
   "source": [
    "diccionario['d'] = '40'\n",
    "\n",
    "print(diccionario)"
   ]
  },
  {
   "cell_type": "markdown",
   "metadata": {},
   "source": [
    "### 5. Eliminar una clave"
   ]
  },
  {
   "cell_type": "code",
   "execution_count": 6,
   "metadata": {},
   "outputs": [
    {
     "name": "stdout",
     "output_type": "stream",
     "text": [
      "{'a': 10, 'b': 20, 'c': 30}\n"
     ]
    }
   ],
   "source": [
    "del diccionario['d']\n",
    "\n",
    "print(diccionario)"
   ]
  },
  {
   "cell_type": "markdown",
   "metadata": {},
   "source": [
    "### 6. Documentación oficial de Python dict\n",
    "\n",
    "https://docs.python.org/3/tutorial/datastructures.html#dictionaries"
   ]
  },
  {
   "cell_type": "markdown",
   "metadata": {},
   "source": [
    "### 7. Funciones básicas sobre diccionarios"
   ]
  },
  {
   "cell_type": "code",
   "execution_count": 7,
   "metadata": {},
   "outputs": [
    {
     "data": {
      "text/plain": [
       "dict_items([('a', 10), ('b', 20), ('c', 30)])"
      ]
     },
     "execution_count": 7,
     "metadata": {},
     "output_type": "execute_result"
    }
   ],
   "source": [
    "diccionario.items() # obtiene los pares clave-valor"
   ]
  },
  {
   "cell_type": "code",
   "execution_count": 8,
   "metadata": {},
   "outputs": [
    {
     "data": {
      "text/plain": [
       "dict_keys(['a', 'b', 'c'])"
      ]
     },
     "execution_count": 8,
     "metadata": {},
     "output_type": "execute_result"
    }
   ],
   "source": [
    "diccionario.keys() # obtiene las claves"
   ]
  },
  {
   "cell_type": "code",
   "execution_count": 9,
   "metadata": {},
   "outputs": [
    {
     "data": {
      "text/plain": [
       "dict_values([10, 20, 30])"
      ]
     },
     "execution_count": 9,
     "metadata": {},
     "output_type": "execute_result"
    }
   ],
   "source": [
    "diccionario.values() # Devuelve los valores"
   ]
  },
  {
   "cell_type": "markdown",
   "metadata": {},
   "source": [
    "---"
   ]
  },
  {
   "cell_type": "markdown",
   "metadata": {},
   "source": [
    "## Ejercicio con diccionarios"
   ]
  },
  {
   "cell_type": "markdown",
   "metadata": {},
   "source": [
    "Crear un diccionario llamado **alumno** que contenga la siguiente información:\n",
    "\n",
    "- Nombre del alumno:  \"Juan Perez\"\n",
    "- Edad : 20\n",
    "- Materias: [\"Matemáticas\", \"Física\", \"Química\"]\n",
    "- Promedio; 8.5\n",
    "\n",
    "1. Añadir una nueva clave llamada **curso** con el valor de \"2º año\"\n",
    "2. Cambia el valor de la clave \"promedio\" a 9.\n",
    "3. Obtén el valor de la clave \"materias\" y guárdalo en un variable llamada materias_alumno.\n",
    "4. Comprueba si la clave \"direccion\" existe en el diccionario (usar la función \"in\"). Si no existe, imprime \"la clave 'direccion'  no está en el diccionario\".\n",
    "5. Elimina la clave \"curso\" del diccionario.\n",
    "6. Muestra el diccionario actualizado por pantalla."
   ]
  },
  {
   "cell_type": "code",
   "execution_count": 10,
   "metadata": {},
   "outputs": [
    {
     "name": "stdout",
     "output_type": "stream",
     "text": [
      "{'nombre': 'Juan Perez', 'edad': 20, 'materias': ['Matematicas', 'Fisica', 'Quimica'], 'promedio': 8.5}\n"
     ]
    }
   ],
   "source": [
    "dic = {\n",
    "    'nombre' : 'Juan Perez',\n",
    "    'edad' : 20,\n",
    "    'materias': ['Matematicas', 'Fisica', 'Quimica'],\n",
    "    'promedio': 8.5\n",
    "}\n",
    "\n",
    "print(dic)"
   ]
  },
  {
   "cell_type": "code",
   "execution_count": 11,
   "metadata": {},
   "outputs": [
    {
     "name": "stdout",
     "output_type": "stream",
     "text": [
      "{'nombre': 'Juan Perez', 'edad': 20, 'materias': ['Matematicas', 'Fisica', 'Quimica'], 'promedio': 8.5, 'curso': '2º año'}\n"
     ]
    }
   ],
   "source": [
    "# 1. Añadir una nueva clave llamada **curso** con el valor de \"2º año\"\n",
    "dic['curso'] = '2º año'\n",
    "\n",
    "print(dic)\n"
   ]
  },
  {
   "cell_type": "code",
   "execution_count": 12,
   "metadata": {},
   "outputs": [
    {
     "name": "stdout",
     "output_type": "stream",
     "text": [
      "{'nombre': 'Juan Perez', 'edad': 20, 'materias': ['Matematicas', 'Fisica', 'Quimica'], 'promedio': 9, 'curso': '2º año'}\n"
     ]
    }
   ],
   "source": [
    "# 2. Cambia el valor de la clave \"promedio\" a 9.\n",
    "dic['promedio'] = 9\n",
    "\n",
    "print(dic)"
   ]
  },
  {
   "cell_type": "code",
   "execution_count": 13,
   "metadata": {},
   "outputs": [
    {
     "name": "stdout",
     "output_type": "stream",
     "text": [
      "Valores de la clave materias del diccionario: ['Matematicas', 'Fisica', 'Quimica']\n",
      "\n",
      "Variable guarda materias_alumno ['Matematicas', 'Fisica', 'Quimica']\n"
     ]
    }
   ],
   "source": [
    "# 3. Obtén el valor de la clave \"materias\" y guárdalo en un variable llamada materias_alumno.\n",
    "print(f\"Valores de la clave materias del diccionario: {dic['materias']}\")\n",
    "\n",
    "materias_alumno = dic['materias']\n",
    "\n",
    "print(f'\\nVariable guarda materias_alumno {materias_alumno}')"
   ]
  },
  {
   "cell_type": "code",
   "execution_count": 14,
   "metadata": {},
   "outputs": [
    {
     "name": "stdout",
     "output_type": "stream",
     "text": [
      "La clave 'direccion' no está en el diccionario\n"
     ]
    }
   ],
   "source": [
    "# 4. Comprueba si la clave \"direccion\" existe en el diccionario (usar la función \"in\"). Si no existe, imprime \"la clave 'direccion'  no está en el diccionario\".\n",
    "if \"direccion\" not in dic:\n",
    "    print(\"La clave 'direccion' no está en el diccionario\")\n",
    "    "
   ]
  },
  {
   "cell_type": "code",
   "execution_count": 15,
   "metadata": {},
   "outputs": [
    {
     "name": "stdout",
     "output_type": "stream",
     "text": [
      "Diccionario ANTES del borrado: {'nombre': 'Juan Perez', 'edad': 20, 'materias': ['Matematicas', 'Fisica', 'Quimica'], 'promedio': 9, 'curso': '2º año'}\n",
      "2º año\n",
      "\n",
      "Borrando del diccionario el elemento 'curso'\n"
     ]
    }
   ],
   "source": [
    "# 5. Elimina la clave \"curso\" del diccionario.\n",
    "print(f\"Diccionario ANTES del borrado: {dic}\")\n",
    "\n",
    "print(dic.pop('curso', 'No existe el curso')) # Si no existe el elemento, devuelve el valor por defecto = No existe el curso\n",
    "\n",
    "print(\"\\nBorrando del diccionario el elemento 'curso'\")"
   ]
  },
  {
   "cell_type": "code",
   "execution_count": 16,
   "metadata": {},
   "outputs": [
    {
     "name": "stdout",
     "output_type": "stream",
     "text": [
      "Diccionario DESPUÉS del borrado: {'nombre': 'Juan Perez', 'edad': 20, 'materias': ['Matematicas', 'Fisica', 'Quimica'], 'promedio': 9}\n",
      "\n",
      "Mostramos el diccionario de manera más visible.\n",
      "  · nombre: Juan Perez\n",
      "  · edad: 20\n",
      "  · materias: ['Matematicas', 'Fisica', 'Quimica']\n",
      "  · promedio: 9\n"
     ]
    }
   ],
   "source": [
    "# 6. Muestra el diccionario actualizado por pantalla.\n",
    "print(f\"Diccionario DESPUÉS del borrado: {dic}\")\n",
    "\n",
    "print(\"\\nMostramos el diccionario de manera más visible.\")\n",
    "for k, v in dic.items():\n",
    "    print(f\"  · {k}: {v}\")"
   ]
  },
  {
   "cell_type": "markdown",
   "metadata": {},
   "source": [
    "### Extra: Mostramos el diccionario como un JSON\n"
   ]
  },
  {
   "cell_type": "code",
   "execution_count": 17,
   "metadata": {},
   "outputs": [
    {
     "name": "stdout",
     "output_type": "stream",
     "text": [
      "{\n",
      "    \"nombre\": \"Juan Perez\",\n",
      "    \"edad\": 20,\n",
      "    \"materias\": [\n",
      "        \"Matematicas\",\n",
      "        \"Fisica\",\n",
      "        \"Quimica\"\n",
      "    ],\n",
      "    \"promedio\": 9\n",
      "}\n"
     ]
    }
   ],
   "source": [
    "import json\n",
    "\n",
    "print(json.dumps(dic, indent=4, ensure_ascii=False))"
   ]
  },
  {
   "cell_type": "markdown",
   "metadata": {},
   "source": [
    "---"
   ]
  },
  {
   "cell_type": "markdown",
   "metadata": {},
   "source": [
    "# Pandas"
   ]
  },
  {
   "cell_type": "markdown",
   "metadata": {},
   "source": [
    "### ¿Qué es la librería Pandas?\n",
    "\n",
    "Pandas es una librería de Python que permite trabajar con datos de manera más eficiente. Permite trabajar con datos en forma de tablas, con columnas y filas. Permite trabajar con datos que están en formato CSV, JSON, HDF5, SQL, HTML, XML, etc."
   ]
  },
  {
   "cell_type": "markdown",
   "metadata": {},
   "source": [
    "### ¿Por qué usar pandas?\n",
    "\n",
    "Pandas es una librería de análisis de datos que se usa para manipular datos en Python. Es una alternativa a otras librerías como NumPy y SciPy. Pandas es muy fácil de usar y tiene una sintaxis similar a la de Matlab.\n"
   ]
  },
  {
   "cell_type": "markdown",
   "metadata": {},
   "source": [
    "#### Importación de pandas"
   ]
  },
  {
   "cell_type": "code",
   "execution_count": 18,
   "metadata": {},
   "outputs": [],
   "source": [
    "import pandas as pd\n",
    "import numpy as np"
   ]
  },
  {
   "attachments": {
    "image.png": {
     "image/png": "[encoded data removed]"
    }
   },
   "cell_type": "markdown",
   "metadata": {},
   "source": [
    "## Creación de datos (Dataframes y Series)\n",
    "\n",
    "### ¿Qué es un Dataframe?\n",
    "\n",
    "Un Dataframe es un objeto de Python que contiene una tabla de datos. Es una estructura de datos organizada por filas y columnas. Cada fila representa una observación, y cada columna representa una variable. Los datos pueden ser de diferentes tipos, como números, cadenas de texto, o valores booleanos.\n",
    "\n",
    "![image.png](attachment:image.png)\n",
    "\n",
    "### ¿Qué es un Series?\n",
    "\n",
    "Un Series es una estructura de datos similar a un Dataframe, pero que tiene una sola columna. Es una secuencia de objetos de Python que se relacionan entre sí. Las series pueden ser de diferentes tipos de datos, como números, cadenas de texto, o valores booleanos.\n",
    "\n",
    "### Diferencias entre Dataframes y Series\n",
    "\n",
    "Una diferencia importante entre Dataframes y Series es que los Series tienen una sola columna, mientras que los Dataframes pueden tener múltiples columnas. Además, los Series tienen una estructura de datos más simple que los Dataframes, ya que no tienen filas ni columnas vacías."
   ]
  },
  {
   "cell_type": "markdown",
   "metadata": {},
   "source": [
    "### Crear una serie"
   ]
  },
  {
   "cell_type": "code",
   "execution_count": 19,
   "metadata": {},
   "outputs": [
    {
     "data": {
      "text/plain": [
       "1      1\n",
       "2      2\n",
       "3      3\n",
       "4      4\n",
       "5      5\n",
       "6      6\n",
       "7      7\n",
       "8      8\n",
       "9      9\n",
       "10    10\n",
       "dtype: int64"
      ]
     },
     "execution_count": 19,
     "metadata": {},
     "output_type": "execute_result"
    }
   ],
   "source": [
    "pd.Series(data=[1,2,3,4,5,6,7,8,9,10], index=[1,2,3,4,5,6,7,8,9,10])"
   ]
  },
  {
   "cell_type": "markdown",
   "metadata": {},
   "source": [
    "### Crear un dataframe"
   ]
  },
  {
   "cell_type": "code",
   "execution_count": 20,
   "metadata": {},
   "outputs": [
    {
     "data": {
      "text/html": [
       "<div>\n",
       "<style scoped>\n",
       "    .dataframe tbody tr th:only-of-type {\n",
       "        vertical-align: middle;\n",
       "    }\n",
       "\n",
       "    .dataframe tbody tr th {\n",
       "        vertical-align: top;\n",
       "    }\n",
       "\n",
       "    .dataframe thead th {\n",
       "        text-align: right;\n",
       "    }\n",
       "</style>\n",
       "<table border=\"1\" class=\"dataframe\">\n",
       "  <thead>\n",
       "    <tr style=\"text-align: right;\">\n",
       "      <th></th>\n",
       "      <th>A</th>\n",
       "      <th>B</th>\n",
       "    </tr>\n",
       "  </thead>\n",
       "  <tbody>\n",
       "    <tr>\n",
       "      <th>0</th>\n",
       "      <td>0.187597</td>\n",
       "      <td>0.066314</td>\n",
       "    </tr>\n",
       "    <tr>\n",
       "      <th>1</th>\n",
       "      <td>-0.118309</td>\n",
       "      <td>-0.972948</td>\n",
       "    </tr>\n",
       "    <tr>\n",
       "      <th>2</th>\n",
       "      <td>0.098012</td>\n",
       "      <td>1.825468</td>\n",
       "    </tr>\n",
       "    <tr>\n",
       "      <th>3</th>\n",
       "      <td>0.804835</td>\n",
       "      <td>-0.757554</td>\n",
       "    </tr>\n",
       "    <tr>\n",
       "      <th>4</th>\n",
       "      <td>-0.452750</td>\n",
       "      <td>0.908374</td>\n",
       "    </tr>\n",
       "  </tbody>\n",
       "</table>\n",
       "</div>"
      ],
      "text/plain": [
       "          A         B\n",
       "0  0.187597  0.066314\n",
       "1 -0.118309 -0.972948\n",
       "2  0.098012  1.825468\n",
       "3  0.804835 -0.757554\n",
       "4 -0.452750  0.908374"
      ]
     },
     "execution_count": 20,
     "metadata": {},
     "output_type": "execute_result"
    }
   ],
   "source": [
    "pd.DataFrame(data=np.random.randn(5, 2), columns=['A', 'B']) # Valores random"
   ]
  },
  {
   "cell_type": "markdown",
   "metadata": {},
   "source": [
    "### Ejercicio crear un Dataframe\n",
    "\n",
    "- Crear un Dataframe utilizando la biblioteca Pandas\n",
    "- El Dataframe debe contener la información sobre empleados de una empresa:\n",
    "    - Nombre: Listas con los nombres de 5 empleados.\n",
    "    - Edad: Lista con las edades de los empleados.\n",
    "    - Departamento: Lista con el departamento de trabajo de cada empleado.\n",
    "    - Salario: Lista con los salarios de los empleados.\n",
    "\n",
    "1. Crear una variable llamada datos que obtenga esta información en formato diccionario.\n",
    "2. Convertir el diccionario en un Dataframe utilizando pd.DataFrame(datos).\n",
    "3. Imprimir el Dataframe completo\n",
    "4. Imprimir unicamente edades de los empleados\n",
    "5. Imprimir los nombres y salarios de los empleados.\n"
   ]
  },
  {
   "cell_type": "code",
   "execution_count": 21,
   "metadata": {},
   "outputs": [
    {
     "name": "stdout",
     "output_type": "stream",
     "text": [
      "{'nombre': ['Pablo', 'Juan', 'Pedro', 'Carlos', 'Marco'], 'edad': [20, 21, 19, 18, 17], 'departamento': ['Ing. en Ciencias', 'Ing. en Ingeniería', 'Ing. en Física', 'Ing. en Matemáticas', 'Ing. en Física'], 'salario': [35000, 25000, 30000, 40000, 50000]}\n",
      "\n"
     ]
    },
    {
     "data": {
      "text/html": [
       "<div>\n",
       "<style scoped>\n",
       "    .dataframe tbody tr th:only-of-type {\n",
       "        vertical-align: middle;\n",
       "    }\n",
       "\n",
       "    .dataframe tbody tr th {\n",
       "        vertical-align: top;\n",
       "    }\n",
       "\n",
       "    .dataframe thead th {\n",
       "        text-align: right;\n",
       "    }\n",
       "</style>\n",
       "<table border=\"1\" class=\"dataframe\">\n",
       "  <thead>\n",
       "    <tr style=\"text-align: right;\">\n",
       "      <th></th>\n",
       "      <th>nombre</th>\n",
       "      <th>edad</th>\n",
       "      <th>departamento</th>\n",
       "      <th>salario</th>\n",
       "    </tr>\n",
       "  </thead>\n",
       "  <tbody>\n",
       "    <tr>\n",
       "      <th>0</th>\n",
       "      <td>Pablo</td>\n",
       "      <td>20</td>\n",
       "      <td>Ing. en Ciencias</td>\n",
       "      <td>35000</td>\n",
       "    </tr>\n",
       "    <tr>\n",
       "      <th>1</th>\n",
       "      <td>Juan</td>\n",
       "      <td>21</td>\n",
       "      <td>Ing. en Ingeniería</td>\n",
       "      <td>25000</td>\n",
       "    </tr>\n",
       "    <tr>\n",
       "      <th>2</th>\n",
       "      <td>Pedro</td>\n",
       "      <td>19</td>\n",
       "      <td>Ing. en Física</td>\n",
       "      <td>30000</td>\n",
       "    </tr>\n",
       "    <tr>\n",
       "      <th>3</th>\n",
       "      <td>Carlos</td>\n",
       "      <td>18</td>\n",
       "      <td>Ing. en Matemáticas</td>\n",
       "      <td>40000</td>\n",
       "    </tr>\n",
       "    <tr>\n",
       "      <th>4</th>\n",
       "      <td>Marco</td>\n",
       "      <td>17</td>\n",
       "      <td>Ing. en Física</td>\n",
       "      <td>50000</td>\n",
       "    </tr>\n",
       "  </tbody>\n",
       "</table>\n",
       "</div>"
      ],
      "text/plain": [
       "   nombre  edad         departamento  salario\n",
       "0   Pablo    20     Ing. en Ciencias    35000\n",
       "1    Juan    21   Ing. en Ingeniería    25000\n",
       "2   Pedro    19       Ing. en Física    30000\n",
       "3  Carlos    18  Ing. en Matemáticas    40000\n",
       "4   Marco    17       Ing. en Física    50000"
      ]
     },
     "execution_count": 21,
     "metadata": {},
     "output_type": "execute_result"
    }
   ],
   "source": [
    "# 1. Crear una variable llamada datos que obtenga esta información en formato diccionario.\n",
    "\n",
    "diccionario = {\n",
    "    'nombre': ['Pablo', \n",
    "               'Juan', \n",
    "               'Pedro', \n",
    "               'Carlos', \n",
    "               'Marco'],\n",
    "    'edad': [20, \n",
    "             21, \n",
    "             19, \n",
    "             18, \n",
    "             17],\n",
    "    'departamento': [\n",
    "        'Ing. en Ciencias', \n",
    "        'Ing. en Ingeniería', \n",
    "        'Ing. en Física', \n",
    "        'Ing. en Matemáticas', \n",
    "        'Ing. en Física'\n",
    "        ],\n",
    "    'salario': [35000, \n",
    "                25000, \n",
    "                30000, \n",
    "                40000, \n",
    "                50000\n",
    "                ]\n",
    "}\n",
    "print(f'{diccionario}\\n')\n",
    "\n",
    "# 2. Convertir el diccionario en un Dataframe utilizando pd.DataFrame(datos).\n",
    "df = pd.DataFrame(diccionario)\n",
    "\n",
    "# 3. Imprimir el Dataframe completo.\n",
    "df"
   ]
  },
  {
   "cell_type": "code",
   "execution_count": 22,
   "metadata": {},
   "outputs": [
    {
     "data": {
      "text/html": [
       "<div>\n",
       "<style scoped>\n",
       "    .dataframe tbody tr th:only-of-type {\n",
       "        vertical-align: middle;\n",
       "    }\n",
       "\n",
       "    .dataframe tbody tr th {\n",
       "        vertical-align: top;\n",
       "    }\n",
       "\n",
       "    .dataframe thead th {\n",
       "        text-align: right;\n",
       "    }\n",
       "</style>\n",
       "<table border=\"1\" class=\"dataframe\">\n",
       "  <thead>\n",
       "    <tr style=\"text-align: right;\">\n",
       "      <th></th>\n",
       "      <th>edad</th>\n",
       "    </tr>\n",
       "  </thead>\n",
       "  <tbody>\n",
       "    <tr>\n",
       "      <th>0</th>\n",
       "      <td>20</td>\n",
       "    </tr>\n",
       "    <tr>\n",
       "      <th>1</th>\n",
       "      <td>21</td>\n",
       "    </tr>\n",
       "    <tr>\n",
       "      <th>2</th>\n",
       "      <td>19</td>\n",
       "    </tr>\n",
       "    <tr>\n",
       "      <th>3</th>\n",
       "      <td>18</td>\n",
       "    </tr>\n",
       "    <tr>\n",
       "      <th>4</th>\n",
       "      <td>17</td>\n",
       "    </tr>\n",
       "  </tbody>\n",
       "</table>\n",
       "</div>"
      ],
      "text/plain": [
       "   edad\n",
       "0    20\n",
       "1    21\n",
       "2    19\n",
       "3    18\n",
       "4    17"
      ]
     },
     "execution_count": 22,
     "metadata": {},
     "output_type": "execute_result"
    }
   ],
   "source": [
    "# 4. Imprimir unicamente edades de los empleados\n",
    "type(df['edad'])\n",
    "df[['edad']]"
   ]
  },
  {
   "cell_type": "code",
   "execution_count": 23,
   "metadata": {},
   "outputs": [
    {
     "data": {
      "text/html": [
       "<div>\n",
       "<style scoped>\n",
       "    .dataframe tbody tr th:only-of-type {\n",
       "        vertical-align: middle;\n",
       "    }\n",
       "\n",
       "    .dataframe tbody tr th {\n",
       "        vertical-align: top;\n",
       "    }\n",
       "\n",
       "    .dataframe thead th {\n",
       "        text-align: right;\n",
       "    }\n",
       "</style>\n",
       "<table border=\"1\" class=\"dataframe\">\n",
       "  <thead>\n",
       "    <tr style=\"text-align: right;\">\n",
       "      <th></th>\n",
       "      <th>nombre</th>\n",
       "      <th>salario</th>\n",
       "    </tr>\n",
       "  </thead>\n",
       "  <tbody>\n",
       "    <tr>\n",
       "      <th>0</th>\n",
       "      <td>Pablo</td>\n",
       "      <td>35000</td>\n",
       "    </tr>\n",
       "    <tr>\n",
       "      <th>1</th>\n",
       "      <td>Juan</td>\n",
       "      <td>25000</td>\n",
       "    </tr>\n",
       "    <tr>\n",
       "      <th>2</th>\n",
       "      <td>Pedro</td>\n",
       "      <td>30000</td>\n",
       "    </tr>\n",
       "    <tr>\n",
       "      <th>3</th>\n",
       "      <td>Carlos</td>\n",
       "      <td>40000</td>\n",
       "    </tr>\n",
       "    <tr>\n",
       "      <th>4</th>\n",
       "      <td>Marco</td>\n",
       "      <td>50000</td>\n",
       "    </tr>\n",
       "  </tbody>\n",
       "</table>\n",
       "</div>"
      ],
      "text/plain": [
       "   nombre  salario\n",
       "0   Pablo    35000\n",
       "1    Juan    25000\n",
       "2   Pedro    30000\n",
       "3  Carlos    40000\n",
       "4   Marco    50000"
      ]
     },
     "execution_count": 23,
     "metadata": {},
     "output_type": "execute_result"
    }
   ],
   "source": [
    "# 5. Imprimir los nombres y salarios de los empleados.\n",
    "df[['nombre', 'salario']]"
   ]
  },
  {
   "cell_type": "code",
   "execution_count": 24,
   "metadata": {},
   "outputs": [
    {
     "name": "stdout",
     "output_type": "stream",
     "text": [
      "<class 'pandas.core.frame.DataFrame'>\n",
      "RangeIndex: 5 entries, 0 to 4\n",
      "Data columns (total 4 columns):\n",
      " #   Column        Non-Null Count  Dtype \n",
      "---  ------        --------------  ----- \n",
      " 0   nombre        5 non-null      object\n",
      " 1   edad          5 non-null      int64 \n",
      " 2   departamento  5 non-null      object\n",
      " 3   salario       5 non-null      int64 \n",
      "dtypes: int64(2), object(2)\n",
      "memory usage: 288.0+ bytes\n"
     ]
    }
   ],
   "source": [
    "df.info()"
   ]
  },
  {
   "cell_type": "markdown",
   "metadata": {},
   "source": [
    "---"
   ]
  },
  {
   "cell_type": "markdown",
   "metadata": {},
   "source": [
    "## Series\n",
    "\n",
    "Secuencia de datos"
   ]
  },
  {
   "cell_type": "code",
   "execution_count": 26,
   "metadata": {},
   "outputs": [
    {
     "data": {
      "text/plain": [
       "0     1\n",
       "1     2\n",
       "2     3\n",
       "3     4\n",
       "4     5\n",
       "5     6\n",
       "6     7\n",
       "7     8\n",
       "8     9\n",
       "9    10\n",
       "dtype: int64"
      ]
     },
     "execution_count": 26,
     "metadata": {},
     "output_type": "execute_result"
    }
   ],
   "source": [
    "pd.Series(data=[1,2,3,4,5,6,7,8,9,10])"
   ]
  }
 ],
 "metadata": {
  "kernelspec": {
   "display_name": ".env",
   "language": "python",
   "name": "python3"
  },
  "language_info": {
   "codemirror_mode": {
    "name": "ipython",
    "version": 3
   },
   "file_extension": ".py",
   "mimetype": "text/x-python",
   "name": "python",
   "nbconvert_exporter": "python",
   "pygments_lexer": "ipython3",
   "version": "3.10.12"
  }
 },
 "nbformat": 4,
 "nbformat_minor": 2
}
